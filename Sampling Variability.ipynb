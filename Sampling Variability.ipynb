{
 "cells": [
  {
   "cell_type": "code",
   "execution_count": 1,
   "metadata": {
    "collapsed": true
   },
   "outputs": [],
   "source": [
    "import numpy as np\n",
    "import matplotlib.pyplot as plt\n",
    "\n",
    "%matplotlib inline"
   ]
  },
  {
   "cell_type": "markdown",
   "metadata": {},
   "source": [
    "# Estimators for the Rate of a Poisson Process\n",
    "\n",
    "Suppose we observe the times of the first 5 purchases at a store, and we want to model purchases by a Poisson process. In class, we considered three estimators for the rate of the Poisson process.\n",
    "\n",
    "The following code simulates the sampling distribution of the three estimators, assuming $\\lambda = 0.5$."
   ]
  },
  {
   "cell_type": "code",
   "execution_count": 2,
   "metadata": {
    "collapsed": false
   },
   "outputs": [],
   "source": [
    "lam1 = []\n",
    "lam2 = []\n",
    "lam3 = []\n",
    "\n",
    "for _ in range(10000):\n",
    "    interarrival_times = np.random.exponential(size=5, scale=1 / 0.5)\n",
    "    lam1.append(5 / np.sum(interarrival_times[1:]))\n",
    "    lam2.append(4 / np.sum(interarrival_times[1:]))\n",
    "    lam3.append(1 / np.median(interarrival_times[1:]))"
   ]
  },
  {
   "cell_type": "code",
   "execution_count": 3,
   "metadata": {
    "collapsed": false
   },
   "outputs": [
    {
     "data": {
      "text/plain": [
       "[<matplotlib.lines.Line2D at 0x7ff5f99203c8>]"
      ]
     },
     "execution_count": 3,
     "metadata": {},
     "output_type": "execute_result"
    },
    {
     "data": {
      "image/png": "[encoded data removed]",
      "text/plain": [
       "<matplotlib.figure.Figure at 0x7ff5fbce4208>"
      ]
     },
     "metadata": {},
     "output_type": "display_data"
    }
   ],
   "source": [
    "bins = np.arange(0, 10, step=0.1)\n",
    "\n",
    "plt.hist(lam1, normed=True, alpha=.3, bins=bins)\n",
    "plt.hist(lam2, normed=True, alpha=.3, bins=bins)\n",
    "plt.hist(lam3, normed=True, alpha=.3, bins=bins)\n",
    "plt.xlim(0, 3)\n",
    "\n",
    "plt.legend([\"$\\hat\\lambda_1$\", \n",
    "            \"$\\hat\\lambda_2$\",\n",
    "            \"$\\hat\\lambda_3$\"])\n",
    "\n",
    "# Add the true lambda to the plot.\n",
    "ylim = plt.gca().get_ylim()\n",
    "plt.plot([0.5, 0.5], [ylim[0], ylim[1]], 'k--')"
   ]
  },
  {
   "cell_type": "markdown",
   "metadata": {},
   "source": [
    "# Your Turn\n",
    "\n",
    "With your partner, choose one of the following distributions:\n",
    "\n",
    "- $\\textrm{Normal}(\\theta, 1)$ distribution (To simulate this, use `np.random.normal`.)\n",
    "- $\\textrm{Laplace}(\\theta, 1)$ distribution (To simulate this, use `np.random.laplace`.)\n",
    "- $\\textrm{Cauchy}(\\theta, 1)$ distribution (To simulate this, add `theta` to `np.random.standard_cauchy`.)\n",
    "\n",
    "Suppose we observe $X_1, ..., X_{20}$ from your chosen distribution. Consider the following estimators of $\\theta$:\n",
    "\n",
    "- $\\hat\\theta_1 = \\textrm{mean}(X_1, ..., X_{20})$\n",
    "- $\\hat\\theta_2 = \\textrm{median}(X_1, ..., X_{20})$\n",
    "\n",
    "Conduct a simulation study to determine which of the two estimators is better for your chosen distribution."
   ]
  },
  {
   "cell_type": "code",
   "execution_count": null,
   "metadata": {
    "collapsed": true
   },
   "outputs": [],
   "source": []
  }
 ],
 "metadata": {
  "kernelspec": {
   "display_name": "Python 3",
   "language": "python",
   "name": "python3"
  },
  "language_info": {
   "codemirror_mode": {
    "name": "ipython",
    "version": 3
   },
   "file_extension": ".py",
   "mimetype": "text/x-python",
   "name": "python",
   "nbconvert_exporter": "python",
   "pygments_lexer": "ipython3",
   "version": "3.5.2"
  }
 },
 "nbformat": 4,
 "nbformat_minor": 2
}
