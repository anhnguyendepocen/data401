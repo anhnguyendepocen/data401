{
 "cells": [
  {
   "cell_type": "code",
   "execution_count": null,
   "metadata": {
    "collapsed": true
   },
   "outputs": [],
   "source": [
    "import numpy as np\n",
    "import pandas as pd\n",
    "import matplotlib.pyplot as plt\n",
    "\n",
    "%matplotlib inline"
   ]
  },
  {
   "cell_type": "code",
   "execution_count": null,
   "metadata": {
    "collapsed": true
   },
   "outputs": [],
   "source": [
    "url = \"https://archive.ics.uci.edu/ml/machine-learning-databases/auto-mpg/auto-mpg.data\"\n",
    "data = pd.read_csv(url, sep=r\"\\s+\", header=None)\n",
    "\n",
    "# Add column names to DataFrame\n",
    "data.columns = ['mpg', 'cylinders', 'displacement', 'horsepower', \n",
    "                'weight', 'acceleration', 'model year', 'origin', \n",
    "                'car name']\n",
    "\n",
    "# Horsepower has some ? values. Replace them by NaNs.\n",
    "data[\"horsepower\"] = pd.to_numeric(data[\"horsepower\"], errors=\"coerce\")\n",
    "\n",
    "# Remove the NaNs.\n",
    "data = data[~data[\"horsepower\"].isnull()]"
   ]
  },
  {
   "cell_type": "markdown",
   "metadata": {},
   "source": [
    "To fit linear regression, you can use Scikit-Learn (or an `lm` function that you wrote yourself). Scikit-Learn requires that all variables already be quantitative. (So you have to have already converted categorical variables to dummy variables.)"
   ]
  },
  {
   "cell_type": "code",
   "execution_count": null,
   "metadata": {
    "collapsed": false
   },
   "outputs": [],
   "source": [
    "from sklearn.linear_model import LinearRegression\n",
    "\n",
    "model = LinearRegression()\n",
    "\n",
    "X = data[[\"cylinders\", \"displacement\", \"horsepower\"]]\n",
    "y = data[\"mpg\"]\n",
    "model.fit(X, y)\n",
    "\n",
    "model.intercept_, model.coef_"
   ]
  },
  {
   "cell_type": "markdown",
   "metadata": {},
   "source": [
    "To estimate the prediction error, you can use cross validation. Shown below is an example of how you would use Scikit-Learn's `cross_val_score` function to do 10-fold cross-validation."
   ]
  },
  {
   "cell_type": "code",
   "execution_count": null,
   "metadata": {
    "collapsed": false
   },
   "outputs": [],
   "source": [
    "from sklearn.model_selection import cross_val_score\n",
    "\n",
    "cross_val_score(model, X, y, cv=10, scoring=\"neg_mean_squared_error\")"
   ]
  },
  {
   "cell_type": "markdown",
   "metadata": {
    "collapsed": true
   },
   "source": [
    "# Task 1\n",
    "\n",
    "Implement forward stepwise regression, using the cross-validation estimate of prediction error to determine which variable to add at each step and when to stop."
   ]
  },
  {
   "cell_type": "code",
   "execution_count": null,
   "metadata": {
    "collapsed": true
   },
   "outputs": [],
   "source": []
  },
  {
   "cell_type": "markdown",
   "metadata": {},
   "source": [
    "# Task 2\n",
    "\n",
    "Implement backward stepwise regression, using the cross-validation estimate of prediction error to determine which variable to delete at each step and when to stop."
   ]
  },
  {
   "cell_type": "code",
   "execution_count": null,
   "metadata": {
    "collapsed": true
   },
   "outputs": [],
   "source": []
  },
  {
   "cell_type": "markdown",
   "metadata": {},
   "source": [
    "# Task 3\n",
    "\n",
    "Use [`LassoCV`](http://scikit-learn.org/stable/modules/generated/sklearn.linear_model.lasso_path.html) in Scikit-Learn to fit the entire Lasso path (as a function of $\\lambda$) and return the coefficients for the $\\lambda$ value that has the lowest cross-validation error.\n",
    "\n",
    "**Notes:**\n",
    "- Try fitting the Lasso with the predictor variables (i.e., the `X` matrix) standardized (using `sklearn.preprocessing.StandardScaler`) and unstandardized. Which one seems to give you better prediction accuracy?\n",
    "- Note that Scikit-Learn calls the parameter $\\lambda$ `alpha`."
   ]
  },
  {
   "cell_type": "code",
   "execution_count": null,
   "metadata": {
    "collapsed": true
   },
   "outputs": [],
   "source": [
    "from sklearn.linear_model import LassoCV"
   ]
  }
 ],
 "metadata": {
  "kernelspec": {
   "display_name": "Python 3",
   "language": "python",
   "name": "python3"
  },
  "language_info": {
   "codemirror_mode": {
    "name": "ipython",
    "version": 3
   },
   "file_extension": ".py",
   "mimetype": "text/x-python",
   "name": "python",
   "nbconvert_exporter": "python",
   "pygments_lexer": "ipython3",
   "version": "3.5.2"
  }
 },
 "nbformat": 4,
 "nbformat_minor": 2
}
