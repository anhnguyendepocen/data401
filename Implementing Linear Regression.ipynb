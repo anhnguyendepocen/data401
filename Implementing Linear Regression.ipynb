{
 "cells": [
  {
   "cell_type": "code",
   "execution_count": null,
   "metadata": {
    "collapsed": true
   },
   "outputs": [],
   "source": [
    "import numpy as np\n",
    "import pandas as pd\n",
    "import matplotlib.pyplot as plt\n",
    "\n",
    "%matplotlib inline"
   ]
  },
  {
   "cell_type": "code",
   "execution_count": null,
   "metadata": {
    "collapsed": true
   },
   "outputs": [],
   "source": [
    "url = \"https://archive.ics.uci.edu/ml/machine-learning-databases/auto-mpg/auto-mpg.data\"\n",
    "data = pd.read_csv(url, sep=r\"\\s+\", header=None)\n",
    "\n",
    "# Add column names to DataFrame\n",
    "data.columns = ['mpg', 'cylinders', 'displacement', 'horsepower', \n",
    "                'weight', 'acceleration', 'model year', 'origin', \n",
    "                'car name']\n",
    "\n",
    "# Horsepower has some ? values. Replace them by NaNs.\n",
    "data[\"horsepower\"] = pd.to_numeric(data[\"horsepower\"], errors=\"coerce\")"
   ]
  },
  {
   "cell_type": "code",
   "execution_count": null,
   "metadata": {
    "collapsed": false
   },
   "outputs": [],
   "source": [
    "def lm(y_var, x_vars, data):\n",
    "    \"\"\"Fits linear regression to predict y_var from x_vars.\n",
    "    \n",
    "    Args:\n",
    "      - y_var: A string represent the name of the column to use as the response variable.\n",
    "      - x_vars: A list of strings representing the names of the columns to use as predictors.\n",
    "      - data: A Pandas data frame.\n",
    "      \n",
    "    Returns:\n",
    "      - A Pandas Series that stores the variable names and the associated coefficients.\n",
    "    \"\"\"\n",
    "    \n",
    "    coefs = pd.Series()\n",
    "    coefs[\"Intercept\"] = 0\n",
    "    for var in x_vars:\n",
    "        coefs[var] = 0\n",
    "    return coefs"
   ]
  }
 ],
 "metadata": {
  "kernelspec": {
   "display_name": "Python 3",
   "language": "python",
   "name": "python3"
  },
  "language_info": {
   "codemirror_mode": {
    "name": "ipython",
    "version": 3
   },
   "file_extension": ".py",
   "mimetype": "text/x-python",
   "name": "python",
   "nbconvert_exporter": "python",
   "pygments_lexer": "ipython3",
   "version": "3.5.2"
  }
 },
 "nbformat": 4,
 "nbformat_minor": 2
}
