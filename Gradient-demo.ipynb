{
 "cells": [
  {
   "cell_type": "markdown",
   "metadata": {},
   "source": [
    "### Gradient Descent for Linear Regression Demo"
   ]
  },
  {
   "cell_type": "code",
   "execution_count": 1,
   "metadata": {
    "collapsed": true
   },
   "outputs": [],
   "source": [
    "import sklearn \n",
    "from sklearn import feature_extraction as fe\n",
    "import os\n",
    "import sys\n",
    "import numpy as np\n",
    "import pandas as pd"
   ]
  },
  {
   "cell_type": "markdown",
   "metadata": {},
   "source": [
    "Step 1:  Load the data"
   ]
  },
  {
   "cell_type": "code",
   "execution_count": 37,
   "metadata": {
    "collapsed": false
   },
   "outputs": [],
   "source": [
    " rawFrame = pd.read_csv(\"/data/FFIE.csv\", low_memory=False)"
   ]
  },
  {
   "cell_type": "code",
   "execution_count": 39,
   "metadata": {
    "collapsed": false
   },
   "outputs": [
    {
     "name": "stdout",
     "output_type": "stream",
     "text": [
      "Index(['Total Household Income', 'Region', 'Total Food Expenditure',\n",
      "       'Main Source of Income', 'Agricultural Household indicator',\n",
      "       'Bread and Cereals Expenditure', 'Total Rice Expenditure',\n",
      "       'Meat Expenditure', 'Total Fish and  marine products Expenditure',\n",
      "       'Fruit Expenditure', 'Vegetables Expenditure',\n",
      "       'Restaurant and hotels Expenditure', 'Alcoholic Beverages Expenditure',\n",
      "       'Tobacco Expenditure', 'Clothing, Footwear and Other Wear Expenditure',\n",
      "       'Housing and water Expenditure', 'Imputed House Rental Value',\n",
      "       'Medical Care Expenditure', 'Transportation Expenditure',\n",
      "       'Communication Expenditure', 'Education Expenditure',\n",
      "       'Miscellaneous Goods and Services Expenditure',\n",
      "       'Special Occasions Expenditure', 'Crop Farming and Gardening expenses',\n",
      "       'Total Income from Entrepreneurial Acitivites', 'Household Head Sex',\n",
      "       'Household Head Age', 'Household Head Marital Status',\n",
      "       'Household Head Highest Grade Completed',\n",
      "       'Household Head Job or Business Indicator', 'Household Head Occupation',\n",
      "       'Household Head Class of Worker', 'Type of Household',\n",
      "       'Total Number of Family members',\n",
      "       'Members with age less than 5 year old',\n",
      "       'Members with age 5 - 17 years old',\n",
      "       'Total number of family members employed', 'Type of Building/House',\n",
      "       'Type of Roof', 'Type of Walls', 'House Floor Area', 'House Age',\n",
      "       'Number of bedrooms', 'Tenure Status', 'Toilet Facilities',\n",
      "       'Electricity', 'Main Source of Water Supply', 'Number of Television',\n",
      "       'Number of CD/VCD/DVD', 'Number of Component/Stereo set',\n",
      "       'Number of Refrigerator/Freezer', 'Number of Washing Machine',\n",
      "       'Number of Airconditioner', 'Number of Car, Jeep, Van',\n",
      "       'Number of Landline/wireless telephones', 'Number of Cellular phone',\n",
      "       'Number of Personal Computer', 'Number of Stove with Oven/Gas Range',\n",
      "       'Number of Motorized Banca', 'Number of Motorcycle/Tricycle'],\n",
      "      dtype='object')\n",
      "(41544, 60)\n"
     ]
    }
   ],
   "source": [
    "print(rawFrame.columns)\n",
    "print(rawFrame.shape)"
   ]
  },
  {
   "cell_type": "code",
   "execution_count": 48,
   "metadata": {
    "collapsed": false
   },
   "outputs": [
    {
     "data": {
      "text/plain": [
       "array([[  1.00000000e+00,   4.21400000e+04,   3.83000000e+04,\n",
       "          2.46760000e+04,   3.32500000e+03,   1.34600000e+04],\n",
       "       [  1.00000000e+00,   1.73290000e+04,   1.30080000e+04,\n",
       "          1.74340000e+04,   2.03500000e+03,   7.83300000e+03],\n",
       "       [  1.00000000e+00,   3.41820000e+04,   3.20010000e+04,\n",
       "          7.78300000e+03,   1.73000000e+03,   3.79500000e+03],\n",
       "       ..., \n",
       "       [  1.00000000e+00,   2.86460000e+04,   2.73390000e+04,\n",
       "          4.80000000e+02,   1.23200000e+03,   3.02500000e+03],\n",
       "       [  1.00000000e+00,   2.99960000e+04,   2.66550000e+04,\n",
       "          2.35900000e+03,   2.92300000e+03,   7.95100000e+03],\n",
       "       [  1.00000000e+00,   4.34850000e+04,   4.12050000e+04,\n",
       "          1.98500000e+03,   2.06200000e+03,   7.11400000e+03]])"
      ]
     },
     "execution_count": 48,
     "metadata": {},
     "output_type": "execute_result"
    }
   ],
   "source": [
    "data = np.array([np.ones(rawFrame.shape[0]),rawFrame['Bread and Cereals Expenditure'], rawFrame['Total Rice Expenditure'],\n",
    "                rawFrame['Meat Expenditure'], rawFrame['Fruit Expenditure'], rawFrame['Vegetables Expenditure']]).T\n",
    "\n",
    "data"
   ]
  },
  {
   "cell_type": "code",
   "execution_count": 55,
   "metadata": {
    "collapsed": false
   },
   "outputs": [
    {
     "data": {
      "text/plain": [
       "array([[480332],\n",
       "       [198235],\n",
       "       [ 82785],\n",
       "       ..., \n",
       "       [133171],\n",
       "       [129500],\n",
       "       [128598]])"
      ]
     },
     "execution_count": 55,
     "metadata": {},
     "output_type": "execute_result"
    }
   ],
   "source": [
    "y = np.array([rawFrame['Total Household Income']]).T\n",
    "y"
   ]
  },
  {
   "cell_type": "markdown",
   "metadata": {},
   "source": [
    "Step 2. Linear regression"
   ]
  },
  {
   "cell_type": "code",
   "execution_count": 60,
   "metadata": {
    "collapsed": false
   },
   "outputs": [
    {
     "name": "stdout",
     "output_type": "stream",
     "text": [
      "[[  4.15440000e+04   1.04415542e+09   7.55927354e+08   4.37876775e+08\n",
      "    1.05956933e+08   2.08007425e+08]\n",
      " [  1.04415542e+09   3.37771773e+13   2.47482809e+13   1.30420484e+13\n",
      "    3.04330262e+12   5.87270578e+12]\n",
      " [  7.55927354e+08   2.47482809e+13   1.94680389e+13   9.06732242e+12\n",
      "    2.09830039e+12   4.15990443e+12]\n",
      " [  4.37876775e+08   1.30420484e+13   9.06732242e+12   9.19338664e+12\n",
      "    1.65992316e+12   2.87510321e+12]\n",
      " [  1.05956933e+08   3.04330262e+12   2.09830039e+12   1.65992316e+12\n",
      "    6.36626178e+11   7.08949470e+11]\n",
      " [  2.08007425e+08   5.87270578e+12   4.15990443e+12   2.87510321e+12\n",
      "    7.08949470e+11   1.49392756e+12]]\n",
      "[[  1.02844492e+10]\n",
      " [  3.02879475e+14]\n",
      " [  2.09842700e+14]\n",
      " [  1.79354361e+14]\n",
      " [  4.21197503e+13]\n",
      " [  6.61726362e+13]]\n"
     ]
    }
   ],
   "source": [
    "\n",
    "# d is the matrix\n",
    "\n",
    "ddt = np.matmul(data.T,data)\n",
    "\n",
    "rightHand = np.dot(data.T,y)\n",
    "\n",
    "print(ddt)\n",
    "print(rightHand)\n",
    "\n",
    "\n",
    "beta = np.matmul(np.linalg.inv(ddt),rightHand)\n"
   ]
  },
  {
   "cell_type": "code",
   "execution_count": 61,
   "metadata": {
    "collapsed": false
   },
   "outputs": [
    {
     "data": {
      "text/plain": [
       "array([[  1.46609766e+04],\n",
       "       [  2.95780819e+00],\n",
       "       [ -2.12930473e+00],\n",
       "       [  1.14585824e+01],\n",
       "       [  2.24216064e+01],\n",
       "       [  3.86231460e+00]])"
      ]
     },
     "execution_count": 61,
     "metadata": {},
     "output_type": "execute_result"
    }
   ],
   "source": [
    "beta"
   ]
  },
  {
   "cell_type": "markdown",
   "metadata": {
    "collapsed": true
   },
   "source": [
    "### Gradient Descent"
   ]
  },
  {
   "cell_type": "code",
   "execution_count": null,
   "metadata": {
    "collapsed": true
   },
   "outputs": [],
   "source": [
    "## pick initial approximation\n",
    "\n",
    "## select learning rate\n",
    "\n",
    "\n",
    "## select Number of iterations\n",
    "\n",
    "\n",
    "## compute next approximation\n",
    "\n",
    "\n"
   ]
  },
  {
   "cell_type": "markdown",
   "metadata": {
    "collapsed": true
   },
   "source": [
    "### Stochastic Gradient Descent"
   ]
  },
  {
   "cell_type": "code",
   "execution_count": 62,
   "metadata": {
    "collapsed": true
   },
   "outputs": [],
   "source": [
    "## pick initial approximation\n",
    "\n",
    "## select learning rate\n",
    "\n",
    "\n",
    "## select Number of iterations\n",
    "\n",
    "\n",
    "## compute next approximation\n"
   ]
  },
  {
   "cell_type": "code",
   "execution_count": null,
   "metadata": {
    "collapsed": true
   },
   "outputs": [],
   "source": []
  }
 ],
 "metadata": {
  "kernelspec": {
   "display_name": "Python 3",
   "language": "python",
   "name": "python3"
  },
  "language_info": {
   "codemirror_mode": {
    "name": "ipython",
    "version": 3
   },
   "file_extension": ".py",
   "mimetype": "text/x-python",
   "name": "python",
   "nbconvert_exporter": "python",
   "pygments_lexer": "ipython3",
   "version": "3.5.2"
  }
 },
 "nbformat": 4,
 "nbformat_minor": 2
}
