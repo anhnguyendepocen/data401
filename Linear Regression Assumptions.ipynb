{
 "cells": [
  {
   "cell_type": "code",
   "execution_count": null,
   "metadata": {
    "collapsed": true
   },
   "outputs": [],
   "source": [
    "import numpy as np\n",
    "import pandas as pd\n",
    "import matplotlib.pyplot as plt\n",
    "\n",
    "%matplotlib inline"
   ]
  },
  {
   "cell_type": "code",
   "execution_count": null,
   "metadata": {
    "collapsed": true
   },
   "outputs": [],
   "source": [
    "url = \"https://archive.ics.uci.edu/ml/machine-learning-databases/auto-mpg/auto-mpg.data\"\n",
    "data = pd.read_csv(url, sep=r\"\\s+\", header=None)\n",
    "\n",
    "# Add column names to DataFrame\n",
    "data.columns = ['mpg', 'cylinders', 'displacement', 'horsepower', \n",
    "                'weight', 'acceleration', 'model year', 'origin', \n",
    "                'car name']\n",
    "\n",
    "# Horsepower has some ? values. Replace them by NaNs.\n",
    "data[\"horsepower\"] = pd.to_numeric(data[\"horsepower\"], errors=\"coerce\")"
   ]
  },
  {
   "cell_type": "markdown",
   "metadata": {},
   "source": [
    "Consider fitting simple linear regression models to \n",
    "\n",
    "- predict mpg from horsepower\n",
    "- predict acceleration from weight\n",
    "- predict acceleration from cylinders\n",
    "- predict displacement from weight\n",
    "- predict weight from displacement (is this the same as the previous one?)\n",
    "\n",
    "Make scatterplots of these variables, and determine if the assumptions for linear regression are satisfied."
   ]
  },
  {
   "cell_type": "code",
   "execution_count": null,
   "metadata": {
    "collapsed": true
   },
   "outputs": [],
   "source": []
  }
 ],
 "metadata": {
  "kernelspec": {
   "display_name": "Python 3",
   "language": "python",
   "name": "python3"
  },
  "language_info": {
   "codemirror_mode": {
    "name": "ipython",
    "version": 3
   },
   "file_extension": ".py",
   "mimetype": "text/x-python",
   "name": "python",
   "nbconvert_exporter": "python",
   "pygments_lexer": "ipython3",
   "version": "3.5.2"
  }
 },
 "nbformat": 4,
 "nbformat_minor": 2
}
