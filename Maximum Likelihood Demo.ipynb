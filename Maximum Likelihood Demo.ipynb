{
 "cells": [
  {
   "cell_type": "code",
   "execution_count": null,
   "metadata": {
    "collapsed": true
   },
   "outputs": [],
   "source": [
    "import numpy as np\n",
    "import matplotlib.pyplot as plt\n",
    "%matplotlib inline\n",
    "\n",
    "from ipywidgets import interact, FloatSlider"
   ]
  },
  {
   "cell_type": "code",
   "execution_count": null,
   "metadata": {
    "collapsed": false
   },
   "outputs": [],
   "source": [
    "x = np.arange(0, 5, step=.01)\n",
    "\n",
    "def plot_exp_pdf(lam, obs):\n",
    "    plt.plot(x, lam * np.exp(-lam * x), 'k-')    \n",
    "    plt.xlabel(\"$x$\", size=16)\n",
    "    plt.xlim(0, 3)\n",
    "    plt.ylim(0, 1.5)\n",
    "    \n",
    "    ymin, ymax = plt.gca().get_ylim()\n",
    "    plt.plot([obs, obs], [ymin, ymax], 'k--')\n",
    "    \n",
    "    plt.title(\"$p(x) = %.2f e^{-%.2f x}$\" % (lam, lam))"
   ]
  },
  {
   "cell_type": "code",
   "execution_count": null,
   "metadata": {
    "collapsed": false
   },
   "outputs": [],
   "source": [
    "interact(plot_exp_pdf, \n",
    "         lam=FloatSlider(min=0, max=4, step=.01, value=1),\n",
    "         obs=FloatSlider(min=0, max=3, step=.01, value=1.6));"
   ]
  }
 ],
 "metadata": {
  "kernelspec": {
   "display_name": "Python 3",
   "language": "python",
   "name": "python3"
  },
  "language_info": {
   "codemirror_mode": {
    "name": "ipython",
    "version": 3
   },
   "file_extension": ".py",
   "mimetype": "text/x-python",
   "name": "python",
   "nbconvert_exporter": "python",
   "pygments_lexer": "ipython3",
   "version": "3.5.2"
  }
 },
 "nbformat": 4,
 "nbformat_minor": 2
}
