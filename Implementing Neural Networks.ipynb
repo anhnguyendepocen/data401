{
 "cells": [
  {
   "cell_type": "markdown",
   "metadata": {},
   "source": [
    "# Implementing Neural Networks\n",
    "\n",
    "In this notebook, you will implement a two-layer neural network (i.e., a neural network with 1 hidden layer)."
   ]
  },
  {
   "cell_type": "code",
   "execution_count": 1,
   "metadata": {
    "collapsed": true
   },
   "outputs": [],
   "source": [
    "import numpy as np"
   ]
  },
  {
   "cell_type": "code",
   "execution_count": 2,
   "metadata": {
    "collapsed": true
   },
   "outputs": [],
   "source": [
    "class NeuralNetwork:\n",
    "    \n",
    "    def __init__(self, input_units, hidden_units):\n",
    "        \"\"\"Initializes a fully-connected two-layer neural network.\n",
    "        \n",
    "        Args: \n",
    "          - input_units: number of neurons in the input layer\n",
    "          - hidden_units: number of neurons in the hidden layer\n",
    "        \"\"\"\n",
    "        self.W1 = np.random.randn(input_units, hidden_units)\n",
    "        self.W2 = np.random.randn(hidden_units)\n",
    "        \n",
    "    def predict(self, x):\n",
    "        \"\"\"Predicts output for the given input x.\n",
    "        \n",
    "        Args:\n",
    "          - x: an array of length `input_units`\n",
    "          \n",
    "        Returns:\n",
    "          Predicted output for the given input.\n",
    "        \"\"\"\n",
    "        raise NotImplementedError\n",
    "        \n",
    "    def update(self, x, y):\n",
    "        \"\"\"Updates neural network weights based on new training data.\n",
    "        \n",
    "        Args:\n",
    "          - x: an array of length `input_units`\n",
    "          - y: a float representing the output\n",
    "        \"\"\"\n",
    "        raise NotImplementedError"
   ]
  }
 ],
 "metadata": {
  "kernelspec": {
   "display_name": "Python 3",
   "language": "python",
   "name": "python3"
  },
  "language_info": {
   "codemirror_mode": {
    "name": "ipython",
    "version": 3
   },
   "file_extension": ".py",
   "mimetype": "text/x-python",
   "name": "python",
   "nbconvert_exporter": "python",
   "pygments_lexer": "ipython3",
   "version": "3.5.2"
  }
 },
 "nbformat": 4,
 "nbformat_minor": 2
}
