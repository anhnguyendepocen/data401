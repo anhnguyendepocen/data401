{
 "cells": [
  {
   "cell_type": "code",
   "execution_count": null,
   "metadata": {
    "collapsed": true
   },
   "outputs": [],
   "source": [
    "import numpy as np\n",
    "import pandas as pd\n",
    "import matplotlib.pyplot as plt\n",
    "%matplotlib inline"
   ]
  },
  {
   "cell_type": "code",
   "execution_count": null,
   "metadata": {
    "collapsed": false
   },
   "outputs": [],
   "source": [
    "data = pd.read_csv(\"/data/admissions.csv\").dropna()\n",
    "data.head()"
   ]
  },
  {
   "cell_type": "code",
   "execution_count": null,
   "metadata": {
    "collapsed": false
   },
   "outputs": [],
   "source": [
    "from sklearn.preprocessing import StandardScaler\n",
    "\n",
    "scaler = StandardScaler()\n",
    "X = scaler.fit_transform(data[[\"gre\", \"gpa\", \"prestige\"]])\n",
    "y = data[\"admit\"].values"
   ]
  },
  {
   "cell_type": "code",
   "execution_count": null,
   "metadata": {
    "collapsed": false
   },
   "outputs": [],
   "source": [
    "class MyLogisticRegression:\n",
    "    \n",
    "    def __init__(self, beta, learning_rate=1e-1):\n",
    "        self.beta = beta\n",
    "        self.eta = learning_rate\n",
    "    \n",
    "    def predict(self, x):\n",
    "        \"\"\"Predict probability for a single observation x.\n",
    "        \"\"\"\n",
    "        raise NotImplementedError\n",
    "    \n",
    "    def update(self, x, y):\n",
    "        \"\"\"Update logistic regression coefficients self.beta\n",
    "           using stochastic gradient descent based on a\n",
    "           single observation (x, y).\n",
    "        \"\"\"\n",
    "        raise NotImplementedError"
   ]
  },
  {
   "cell_type": "code",
   "execution_count": null,
   "metadata": {
    "collapsed": false,
    "scrolled": true
   },
   "outputs": [],
   "source": [
    "# Initialize logistic regression model with 3 predictors.\n",
    "# (So beta will have 4 components, including the intercept.)\n",
    "beta_init = np.array([0., 0., 0., 0.])\n",
    "model = MyLogisticRegression(beta=beta_init, learning_rate=1e-2)\n",
    "\n",
    "# each epoch is a pass through the data\n",
    "beta_path = []  # store the beta coefficients from each epoch \n",
    "for epoch in range(100):\n",
    "    beta_path.append(model.beta.copy())\n",
    "    for i in range(len(data)):\n",
    "        model.update(X[i, :], y[i])\n",
    "        \n",
    "plt.plot(beta_path)\n",
    "model.beta"
   ]
  },
  {
   "cell_type": "markdown",
   "metadata": {},
   "source": [
    "# Check your answer with Scikit-Learn"
   ]
  },
  {
   "cell_type": "code",
   "execution_count": null,
   "metadata": {
    "collapsed": false
   },
   "outputs": [],
   "source": [
    "from sklearn.linear_model import LogisticRegression\n",
    "\n",
    "skmodel = LogisticRegression()\n",
    "skmodel.fit(X, y)\n",
    "skmodel.intercept_, skmodel.coef_"
   ]
  }
 ],
 "metadata": {
  "kernelspec": {
   "display_name": "Python 3",
   "language": "python",
   "name": "python3"
  },
  "language_info": {
   "codemirror_mode": {
    "name": "ipython",
    "version": 3
   },
   "file_extension": ".py",
   "mimetype": "text/x-python",
   "name": "python",
   "nbconvert_exporter": "python",
   "pygments_lexer": "ipython3",
   "version": "3.5.2"
  }
 },
 "nbformat": 4,
 "nbformat_minor": 2
}
